{
 "cells": [
  {
   "cell_type": "markdown",
   "metadata": {
    "collapsed": true
   },
   "source": [
    "## BigDL Wide & Deep Recommender Demo"
   ]
  },
  {
   "cell_type": "markdown",
   "metadata": {},
   "source": [
    "Wide and Deep Learning Model, proposed by Google in 2016, is a DNN-Linear mixed model. Wide and deep learning has been used for Google App Store for their app recommendation.\n",
    "\n",
    "In this tutorial, we'll introduce how to use BigDL to train a wide linear model and a deep neural network, which is called Wide & Deep model. Wide & Deep model combines the strength of memorization and generalization. It's useful for generic large-scale regression and classification problems with sparse input features(e.g., categorical features with a large number of possible feature values)."
   ]
  },
  {
   "cell_type": "code",
   "execution_count": 1,
   "metadata": {},
   "outputs": [
    {
     "name": "stdout",
     "output_type": "stream",
     "text": [
      "Populating the interactive namespace from numpy and matplotlib\n"
     ]
    }
   ],
   "source": [
    "%pylab inline\n",
    "\n",
    "import os\n",
    "import sys\n",
    "import numpy as np\n",
    "import pandas as pd\n",
    "import scipy as sp\n",
    "import datetime as dt\n",
    "\n",
    "from bigdl.dataset.transformer import *\n",
    "from bigdl.dataset.base import *\n",
    "from bigdl.nn.layer import *\n",
    "from bigdl.nn.initialization_method import *\n",
    "from bigdl.nn.criterion import *\n",
    "from bigdl.optim.optimizer import *\n",
    "from bigdl.util.common import *\n",
    "\n",
    "redire_spark_logs()\n",
    "show_bigdl_info_logs()\n",
    "init_engine()\n",
    "sc=get_spark_context()"
   ]
  },
  {
   "cell_type": "markdown",
   "metadata": {},
   "source": [
    "Define some helper function and variable."
   ]
  },
  {
   "cell_type": "code",
   "execution_count": 2,
   "metadata": {
    "collapsed": true
   },
   "outputs": [],
   "source": [
    "COLUMNS = [\"age\", \"workclass\", \"fnlwgt\", \"education\", \"education_num\",\n",
    "           \"marital_status\", \"occupation\", \"relationship\", \"race\", \"gender\",\n",
    "           \"capital_gain\", \"capital_loss\", \"hours_per_week\", \"native_country\",\n",
    "           \"income_bracket\"]\n",
    "\n",
    "NUM_COLUMNS=15\n",
    "\n",
    "LABEL_COLUMN = \"label\"\n",
    "\n",
    "AGE, WORKCLASS, FNLWGT, EDUCATION, EDUCATION_NUM, MARITAL_STATUS, OCCUPATION, \\\n",
    "RELATIONSHIP, RACE, GENDER, CAPITAL_GAIN, CAPITAL_LOSS, HOURS_PER_WEEK, NATIVE_COUNTRY, \\\n",
    "LABEL = range(NUM_COLUMNS)\n",
    "\n",
    "EDUCATION_VOCAB = [\"Bachelors\", \"HS-grad\", \"11th\", \"Masters\", \"9th\",\n",
    "  \"Some-college\", \"Assoc-acdm\", \"Assoc-voc\", \"7th-8th\",\n",
    "  \"Doctorate\", \"Prof-school\", \"5th-6th\", \"10th\", \"1st-4th\",\n",
    "  \"Preschool\", \"12th\"] # 16\n",
    "MARITAL_STATUS_VOCAB = [\"Married-civ-spouse\", \"Divorced\", \"Married-spouse-absent\",\n",
    "    \"Never-married\", \"Separated\", \"Married-AF-spouse\", \"Widowed\"]\n",
    "RELATIONSHIP_VOCAB = [\"Husband\", \"Not-in-family\", \"Wife\", \"Own-child\", \"Unmarried\",\n",
    "    \"Other-relative\"]  # 6\n",
    "WORKCLASS_VOCAB = [\"Self-emp-not-inc\", \"Private\", \"State-gov\", \"Federal-gov\",\n",
    "    \"Local-gov\", \"?\", \"Self-emp-inc\", \"Without-pay\", \"Never-worked\"] # 9\n",
    "GENDER_VOCAB = [\"Female\", \"Male\"]\n",
    "AGE_BOUNDARIES = [18, 25, 30, 35, 40, 45, 50, 55, 60, 65]\n",
    "\n",
    "def hashbucket(sth, bucketsize = 1000, start = 0):\n",
    "    return (id(sth) % bucketsize + bucketsize) % bucketsize + start\n",
    "\n",
    "def categorical_from_vocab_list(sth, vocab_list, default = -1, start = 0):\n",
    "    if sth in vocab_list:\n",
    "        return vocab_list.index(sth) + start\n",
    "    else:\n",
    "        return default + start\n",
    "    \n",
    "def get_boundaries(numage, boundaries, default = -1, start = 0):\n",
    "    if numage == '?':\n",
    "        return default + start\n",
    "    else:\n",
    "        for i in range(len(boundaries)):\n",
    "            if numage < boundaries[i]:\n",
    "                return i + start\n",
    "        return len(boundaries) + start\n",
    "    \n",
    "def get_label(label):\n",
    "    if label == \">50K\" or label == \">50K.\":\n",
    "        return 2\n",
    "    else:\n",
    "        return 1\n",
    "    \n",
    "def read(file, sc):\n",
    "    lines=sc.textFile(file).map(lambda line: list(map(lambda word: word.strip(), line.split(',')))).filter(lambda line: len(line) == NUM_COLUMNS)\n",
    "    return lines"
   ]
  },
  {
   "cell_type": "markdown",
   "metadata": {},
   "source": [
    "## 1. Prepare Data\n",
    "Download training and testing data set from [Census Income Dataset](https://archive.ics.uci.edu/ml/datasets/Census+Income).\n",
    "Read and parse the dataset into Spark RDD."
   ]
  },
  {
   "cell_type": "code",
   "execution_count": 3,
   "metadata": {
    "collapsed": true
   },
   "outputs": [],
   "source": [
    "train_records = read('census/adult.data', sc)\n",
    "test_records = read('census/adult.test', sc)"
   ]
  },
  {
   "cell_type": "markdown",
   "metadata": {},
   "source": [
    "Training data set has 14 features age, workclass, fnlwgt, etc... and one label income_bracket. There is ten record of the dataset."
   ]
  },
  {
   "cell_type": "code",
   "execution_count": 4,
   "metadata": {
    "scrolled": true
   },
   "outputs": [
    {
     "data": {
      "text/html": [
       "<div>\n",
       "<style>\n",
       "    .dataframe thead tr:only-child th {\n",
       "        text-align: right;\n",
       "    }\n",
       "\n",
       "    .dataframe thead th {\n",
       "        text-align: left;\n",
       "    }\n",
       "\n",
       "    .dataframe tbody tr th {\n",
       "        vertical-align: top;\n",
       "    }\n",
       "</style>\n",
       "<table border=\"1\" class=\"dataframe\">\n",
       "  <thead>\n",
       "    <tr style=\"text-align: right;\">\n",
       "      <th></th>\n",
       "      <th>age</th>\n",
       "      <th>workclass</th>\n",
       "      <th>fnlwgt</th>\n",
       "      <th>education</th>\n",
       "      <th>education_num</th>\n",
       "      <th>marital_status</th>\n",
       "      <th>occupation</th>\n",
       "      <th>relationship</th>\n",
       "      <th>race</th>\n",
       "      <th>gender</th>\n",
       "      <th>capital_gain</th>\n",
       "      <th>capital_loss</th>\n",
       "      <th>hours_per_week</th>\n",
       "      <th>native_country</th>\n",
       "      <th>income_bracket</th>\n",
       "    </tr>\n",
       "  </thead>\n",
       "  <tbody>\n",
       "    <tr>\n",
       "      <th>0</th>\n",
       "      <td>39</td>\n",
       "      <td>State-gov</td>\n",
       "      <td>77516</td>\n",
       "      <td>Bachelors</td>\n",
       "      <td>13</td>\n",
       "      <td>Never-married</td>\n",
       "      <td>Adm-clerical</td>\n",
       "      <td>Not-in-family</td>\n",
       "      <td>White</td>\n",
       "      <td>Male</td>\n",
       "      <td>2174</td>\n",
       "      <td>0</td>\n",
       "      <td>40</td>\n",
       "      <td>United-States</td>\n",
       "      <td>&lt;=50K</td>\n",
       "    </tr>\n",
       "    <tr>\n",
       "      <th>1</th>\n",
       "      <td>50</td>\n",
       "      <td>Self-emp-not-inc</td>\n",
       "      <td>83311</td>\n",
       "      <td>Bachelors</td>\n",
       "      <td>13</td>\n",
       "      <td>Married-civ-spouse</td>\n",
       "      <td>Exec-managerial</td>\n",
       "      <td>Husband</td>\n",
       "      <td>White</td>\n",
       "      <td>Male</td>\n",
       "      <td>0</td>\n",
       "      <td>0</td>\n",
       "      <td>13</td>\n",
       "      <td>United-States</td>\n",
       "      <td>&lt;=50K</td>\n",
       "    </tr>\n",
       "    <tr>\n",
       "      <th>2</th>\n",
       "      <td>38</td>\n",
       "      <td>Private</td>\n",
       "      <td>215646</td>\n",
       "      <td>HS-grad</td>\n",
       "      <td>9</td>\n",
       "      <td>Divorced</td>\n",
       "      <td>Handlers-cleaners</td>\n",
       "      <td>Not-in-family</td>\n",
       "      <td>White</td>\n",
       "      <td>Male</td>\n",
       "      <td>0</td>\n",
       "      <td>0</td>\n",
       "      <td>40</td>\n",
       "      <td>United-States</td>\n",
       "      <td>&lt;=50K</td>\n",
       "    </tr>\n",
       "    <tr>\n",
       "      <th>3</th>\n",
       "      <td>53</td>\n",
       "      <td>Private</td>\n",
       "      <td>234721</td>\n",
       "      <td>11th</td>\n",
       "      <td>7</td>\n",
       "      <td>Married-civ-spouse</td>\n",
       "      <td>Handlers-cleaners</td>\n",
       "      <td>Husband</td>\n",
       "      <td>Black</td>\n",
       "      <td>Male</td>\n",
       "      <td>0</td>\n",
       "      <td>0</td>\n",
       "      <td>40</td>\n",
       "      <td>United-States</td>\n",
       "      <td>&lt;=50K</td>\n",
       "    </tr>\n",
       "    <tr>\n",
       "      <th>4</th>\n",
       "      <td>28</td>\n",
       "      <td>Private</td>\n",
       "      <td>338409</td>\n",
       "      <td>Bachelors</td>\n",
       "      <td>13</td>\n",
       "      <td>Married-civ-spouse</td>\n",
       "      <td>Prof-specialty</td>\n",
       "      <td>Wife</td>\n",
       "      <td>Black</td>\n",
       "      <td>Female</td>\n",
       "      <td>0</td>\n",
       "      <td>0</td>\n",
       "      <td>40</td>\n",
       "      <td>Cuba</td>\n",
       "      <td>&lt;=50K</td>\n",
       "    </tr>\n",
       "    <tr>\n",
       "      <th>5</th>\n",
       "      <td>37</td>\n",
       "      <td>Private</td>\n",
       "      <td>284582</td>\n",
       "      <td>Masters</td>\n",
       "      <td>14</td>\n",
       "      <td>Married-civ-spouse</td>\n",
       "      <td>Exec-managerial</td>\n",
       "      <td>Wife</td>\n",
       "      <td>White</td>\n",
       "      <td>Female</td>\n",
       "      <td>0</td>\n",
       "      <td>0</td>\n",
       "      <td>40</td>\n",
       "      <td>United-States</td>\n",
       "      <td>&lt;=50K</td>\n",
       "    </tr>\n",
       "    <tr>\n",
       "      <th>6</th>\n",
       "      <td>49</td>\n",
       "      <td>Private</td>\n",
       "      <td>160187</td>\n",
       "      <td>9th</td>\n",
       "      <td>5</td>\n",
       "      <td>Married-spouse-absent</td>\n",
       "      <td>Other-service</td>\n",
       "      <td>Not-in-family</td>\n",
       "      <td>Black</td>\n",
       "      <td>Female</td>\n",
       "      <td>0</td>\n",
       "      <td>0</td>\n",
       "      <td>16</td>\n",
       "      <td>Jamaica</td>\n",
       "      <td>&lt;=50K</td>\n",
       "    </tr>\n",
       "    <tr>\n",
       "      <th>7</th>\n",
       "      <td>52</td>\n",
       "      <td>Self-emp-not-inc</td>\n",
       "      <td>209642</td>\n",
       "      <td>HS-grad</td>\n",
       "      <td>9</td>\n",
       "      <td>Married-civ-spouse</td>\n",
       "      <td>Exec-managerial</td>\n",
       "      <td>Husband</td>\n",
       "      <td>White</td>\n",
       "      <td>Male</td>\n",
       "      <td>0</td>\n",
       "      <td>0</td>\n",
       "      <td>45</td>\n",
       "      <td>United-States</td>\n",
       "      <td>&gt;50K</td>\n",
       "    </tr>\n",
       "    <tr>\n",
       "      <th>8</th>\n",
       "      <td>31</td>\n",
       "      <td>Private</td>\n",
       "      <td>45781</td>\n",
       "      <td>Masters</td>\n",
       "      <td>14</td>\n",
       "      <td>Never-married</td>\n",
       "      <td>Prof-specialty</td>\n",
       "      <td>Not-in-family</td>\n",
       "      <td>White</td>\n",
       "      <td>Female</td>\n",
       "      <td>14084</td>\n",
       "      <td>0</td>\n",
       "      <td>50</td>\n",
       "      <td>United-States</td>\n",
       "      <td>&gt;50K</td>\n",
       "    </tr>\n",
       "    <tr>\n",
       "      <th>9</th>\n",
       "      <td>42</td>\n",
       "      <td>Private</td>\n",
       "      <td>159449</td>\n",
       "      <td>Bachelors</td>\n",
       "      <td>13</td>\n",
       "      <td>Married-civ-spouse</td>\n",
       "      <td>Exec-managerial</td>\n",
       "      <td>Husband</td>\n",
       "      <td>White</td>\n",
       "      <td>Male</td>\n",
       "      <td>5178</td>\n",
       "      <td>0</td>\n",
       "      <td>40</td>\n",
       "      <td>United-States</td>\n",
       "      <td>&gt;50K</td>\n",
       "    </tr>\n",
       "  </tbody>\n",
       "</table>\n",
       "</div>"
      ],
      "text/plain": [
       "  age         workclass  fnlwgt  education education_num  \\\n",
       "0  39         State-gov   77516  Bachelors            13   \n",
       "1  50  Self-emp-not-inc   83311  Bachelors            13   \n",
       "2  38           Private  215646    HS-grad             9   \n",
       "3  53           Private  234721       11th             7   \n",
       "4  28           Private  338409  Bachelors            13   \n",
       "5  37           Private  284582    Masters            14   \n",
       "6  49           Private  160187        9th             5   \n",
       "7  52  Self-emp-not-inc  209642    HS-grad             9   \n",
       "8  31           Private   45781    Masters            14   \n",
       "9  42           Private  159449  Bachelors            13   \n",
       "\n",
       "          marital_status         occupation   relationship   race  gender  \\\n",
       "0          Never-married       Adm-clerical  Not-in-family  White    Male   \n",
       "1     Married-civ-spouse    Exec-managerial        Husband  White    Male   \n",
       "2               Divorced  Handlers-cleaners  Not-in-family  White    Male   \n",
       "3     Married-civ-spouse  Handlers-cleaners        Husband  Black    Male   \n",
       "4     Married-civ-spouse     Prof-specialty           Wife  Black  Female   \n",
       "5     Married-civ-spouse    Exec-managerial           Wife  White  Female   \n",
       "6  Married-spouse-absent      Other-service  Not-in-family  Black  Female   \n",
       "7     Married-civ-spouse    Exec-managerial        Husband  White    Male   \n",
       "8          Never-married     Prof-specialty  Not-in-family  White  Female   \n",
       "9     Married-civ-spouse    Exec-managerial        Husband  White    Male   \n",
       "\n",
       "  capital_gain capital_loss hours_per_week native_country income_bracket  \n",
       "0         2174            0             40  United-States          <=50K  \n",
       "1            0            0             13  United-States          <=50K  \n",
       "2            0            0             40  United-States          <=50K  \n",
       "3            0            0             40  United-States          <=50K  \n",
       "4            0            0             40           Cuba          <=50K  \n",
       "5            0            0             40  United-States          <=50K  \n",
       "6            0            0             16        Jamaica          <=50K  \n",
       "7            0            0             45  United-States           >50K  \n",
       "8        14084            0             50  United-States           >50K  \n",
       "9         5178            0             40  United-States           >50K  "
      ]
     },
     "execution_count": 4,
     "metadata": {},
     "output_type": "execute_result"
    }
   ],
   "source": [
    "pd.DataFrame(train_records.take(10), columns=COLUMNS)"
   ]
  },
  {
   "cell_type": "markdown",
   "metadata": {},
   "source": [
    "## 2. Transform data to BigDL' Sample\n",
    "BigDL's Sample is a data structure who represents the features and label of data. So each record will be transform to a BigDL Sample, and BigDL will train the Wide&Deep with these Samples. \n",
    "\n",
    "The input BigDL Wide&Deep model required,  are two input tensors, one is SparseTensor for the Wide model, another is a DenseTensor for the Deep model."
   ]
  },
  {
   "cell_type": "code",
   "execution_count": 5,
   "metadata": {
    "collapsed": true
   },
   "outputs": [],
   "source": [
    "def to_sample(row):\n",
    "    wide_column_shape = np.array([3049])\n",
    "    wide_column_indices = np.arange(8)\n",
    "    wide_column_values = np.ones(8)\n",
    "    education = categorical_from_vocab_list(row[EDUCATION], EDUCATION_VOCAB, start = 1)  # 1 - 16\n",
    "    marital_status = categorical_from_vocab_list(row[MARITAL_STATUS], MARITAL_STATUS_VOCAB, start = 1) # 1 - 7\n",
    "    relationship = categorical_from_vocab_list(row[RELATIONSHIP], RELATIONSHIP_VOCAB, start = 1) # 1 - 6\n",
    "    workclass = categorical_from_vocab_list(row[WORKCLASS], WORKCLASS_VOCAB, start = 1) # 1 - 9\n",
    "    occupation = hashbucket(row[OCCUPATION], 1000, start = 1) # 1 - 1000\n",
    "    age_buckets = get_boundaries(int(row[AGE]), AGE_BOUNDARIES, start = 1) # 1 - 11\n",
    "    education_x_occupation = hashbucket(row[EDUCATION] + row[OCCUPATION], 1000, start = 1) # 1 - 1000\n",
    "    age_x_education_occupation = hashbucket(str(age_buckets) + row[EDUCATION] + row[OCCUPATION], 1000, start = 1) # 1 - 1000\n",
    "    \n",
    "    wide_column_indices[0] = education - 1\n",
    "    wide_column_indices[1] = marital_status + 16 - 1\n",
    "    wide_column_indices[2] = relationship + 23 - 1\n",
    "    wide_column_indices[3] = workclass + 29 - 1\n",
    "    wide_column_indices[4] = occupation + 38 - 1\n",
    "    wide_column_indices[5] = age_buckets + 1038 - 1\n",
    "    wide_column_indices[6] = education_x_occupation + 1049 - 1\n",
    "    wide_column_indices[7] = age_x_education_occupation + 2049 - 1\n",
    "    \n",
    "    deep_column1 = np.zeros(43)\n",
    "    deep_column1[0] = row[AGE]\n",
    "    deep_column1[1] = row[EDUCATION_NUM]\n",
    "    deep_column1[2] = row[CAPITAL_GAIN]\n",
    "    deep_column1[3] = row[CAPITAL_LOSS]\n",
    "    deep_column1[4] = row[HOURS_PER_WEEK]\n",
    "    deep_column1[workclass + 4] = 1\n",
    "    deep_column1[education + 13] = 1\n",
    "    deep_column1[marital_status + 29] = 1\n",
    "    deep_column1[relationship + 36] = 1\n",
    "    \n",
    "    deep_column2 = np.zeros(1)\n",
    "    deep_column2[0] = hashbucket(row[NATIVE_COUNTRY], 1000, 1)\n",
    "    \n",
    "    label = get_label(row[LABEL])\n",
    "    wide_column_values=wide_column_values.astype(\"float32\")\n",
    "    deep_column1=deep_column1.astype(\"float32\")\n",
    "    deep_column2=deep_column2.astype(\"float32\")\n",
    "\n",
    "\n",
    "    wide_input = JTensor.sparse(wide_column_values, wide_column_indices, wide_column_shape, bigdl_type=\"float\")\n",
    "    deep_input1 = JTensor.from_ndarray(deep_column1)\n",
    "    deep_input2 = JTensor.from_ndarray(deep_column2)\n",
    "    return Sample.from_jtensor([wide_input, deep_input1, deep_input2], label)\n",
    "\n",
    "train_data = train_records.map(lambda line: to_sample(line))\n",
    "test_data = test_records.map(lambda line: to_sample(line))"
   ]
  },
  {
   "cell_type": "markdown",
   "metadata": {},
   "source": [
    "Cache the Training and Testing data RDD."
   ]
  },
  {
   "cell_type": "code",
   "execution_count": 6,
   "metadata": {},
   "outputs": [
    {
     "name": "stdout",
     "output_type": "stream",
     "text": [
      "Total train records: 32561\n",
      "Total test records: 16281\n"
     ]
    }
   ],
   "source": [
    "train_data.cache()\n",
    "print \"Total train records: %s\" % train_data.count()\n",
    "test_data.cache()\n",
    "print \"Total test records: %s\" % test_data.count()"
   ]
  },
  {
   "cell_type": "markdown",
   "metadata": {},
   "source": [
    "## 3. Create the Wide&Deep model."
   ]
  },
  {
   "cell_type": "code",
   "execution_count": 7,
   "metadata": {
    "scrolled": true
   },
   "outputs": [
    {
     "name": "stdout",
     "output_type": "stream",
     "text": [
      "creating: createIdentity\n",
      "creating: createSparseLinear\n",
      "creating: createZeros\n",
      "creating: createZeros\n",
      "creating: createIdentity\n",
      "creating: createLookupTable\n",
      "creating: createRandomNormal\n",
      "creating: createReshape\n",
      "creating: createJoinTable\n",
      "creating: createLinear\n",
      "creating: createZeros\n",
      "creating: createReLU\n",
      "creating: createLinear\n",
      "creating: createZeros\n",
      "creating: createReLU\n",
      "creating: createLinear\n",
      "creating: createZeros\n",
      "creating: createReLU\n",
      "creating: createLinear\n",
      "creating: createZeros\n",
      "creating: createReLU\n",
      "creating: createLinear\n",
      "creating: createZeros\n",
      "creating: createCAddTable\n",
      "creating: createLogSoftMax\n",
      "creating: createModel\n"
     ]
    }
   ],
   "source": [
    "def build_model(class_num = 2):\n",
    "    # wide\n",
    "    wideChannel = Identity().set_name(\"wide_input\")()\n",
    "    wideModel = SparseLinear(3049, class_num).set_name(\"wide_fc\").set_init_method(Zeros(), Zeros())(wideChannel)\n",
    "\n",
    "    # deep\n",
    "    deepChannel1 = Identity().set_name(\"deep_input1\")()\n",
    "    deepChannel2 = LookupTable(1000, 8).set_init_method(RandomNormal(0, 0.001)).set_name(\"embedding_1\")()\n",
    "    reshape = Reshape([8], True)(deepChannel2)\n",
    "    joinTable = JoinTable(1, 1).set_name(\"merge1\")([deepChannel1, reshape])\n",
    "    fc1 = Linear(51, 100).set_init_method(bias_init_method=Zeros()).set_name(\"fc_1\")(joinTable)\n",
    "    relu1 = ReLU().set_name(\"relu_1\")(fc1)\n",
    "    fc2 = Linear(100, 75).set_init_method(bias_init_method=Zeros()).set_name(\"fc_2\")(relu1)\n",
    "    relu2 = ReLU().set_name(\"relu_2\")(fc2)\n",
    "    fc3 = Linear(75, 50).set_init_method(bias_init_method=Zeros()).set_name(\"fc_3\")(relu2)\n",
    "    relu3 = ReLU().set_name(\"relu_3\")(fc3)\n",
    "    fc4 = Linear(50, 25).set_init_method(bias_init_method=Zeros()).set_name(\"fc_4\")(relu3)\n",
    "    relu4 = ReLU().set_name(\"relu_4\")(fc4)\n",
    "    fc5 = Linear(25, class_num).set_init_method(bias_init_method=Zeros()).set_name(\"deep_fc\")(relu4)\n",
    "#     merge\n",
    "    merge = CAddTable().set_name(\"merge2\")([wideModel, fc5])\n",
    "    classifier = LogSoftMax().set_name(\"loss\")(merge)\n",
    "    \n",
    "    wide_deep = Model([wideChannel, deepChannel1, deepChannel2], [classifier])\n",
    "    return wide_deep\n",
    "   \n",
    "wide_n_deep=build_model()"
   ]
  },
  {
   "cell_type": "markdown",
   "metadata": {},
   "source": [
    "## 4. Create optimizer and training the model"
   ]
  },
  {
   "cell_type": "code",
   "execution_count": 8,
   "metadata": {},
   "outputs": [
    {
     "name": "stdout",
     "output_type": "stream",
     "text": [
      "creating: createIdentity\n",
      "creating: createSparseLinear\n",
      "creating: createZeros\n",
      "creating: createZeros\n",
      "creating: createIdentity\n",
      "creating: createLookupTable\n",
      "creating: createRandomNormal\n",
      "creating: createReshape\n",
      "creating: createJoinTable\n",
      "creating: createLinear\n",
      "creating: createZeros\n",
      "creating: createReLU\n",
      "creating: createLinear\n",
      "creating: createZeros\n",
      "creating: createReLU\n",
      "creating: createLinear\n",
      "creating: createZeros\n",
      "creating: createReLU\n",
      "creating: createLinear\n",
      "creating: createZeros\n",
      "creating: createReLU\n",
      "creating: createLinear\n",
      "creating: createZeros\n",
      "creating: createCAddTable\n",
      "creating: createLogSoftMax\n",
      "creating: createModel\n",
      "creating: createClassNLLCriterion\n",
      "creating: createAdam\n",
      "creating: createMaxEpoch\n",
      "creating: createDistriOptimizer\n",
      "creating: createEveryEpoch\n",
      "creating: createTop1Accuracy\n",
      "creating: createTrainSummary\n",
      "creating: createSeveralIteration\n",
      "creating: createSeveralIteration\n",
      "creating: createValidationSummary\n",
      "saving logs to /tmp/bigdl_summaries/wide_n_deep-20180410-224322\n"
     ]
    }
   ],
   "source": [
    "wide_n_deep=build_model()\n",
    "\n",
    "# Create an Optimizer\n",
    "batch_size = 2048\n",
    "\n",
    "optimizer = Optimizer(\n",
    "    model=wide_n_deep,\n",
    "    training_rdd=train_data,\n",
    "    criterion=ClassNLLCriterion(),\n",
    "    optim_method=Adam(learningrate = 0.001, learningrate_decay=0.001),\n",
    "    end_trigger=MaxEpoch(20),\n",
    "    batch_size=batch_size)\n",
    "\n",
    "# Set the validation logic\n",
    "optimizer.set_validation(\n",
    "    batch_size=batch_size,\n",
    "    val_rdd=test_data,\n",
    "    trigger=EveryEpoch(),\n",
    "    val_method=[Top1Accuracy()]\n",
    ")\n",
    "log_dir='/tmp/bigdl_summaries/'\n",
    "app_name='wide_n_deep-'+dt.datetime.now().strftime(\"%Y%m%d-%H%M%S\")\n",
    "wide_n_deep.save_graph_topology(log_dir + app_name)\n",
    "train_summary = TrainSummary(log_dir=log_dir,\n",
    "                                     app_name=app_name)\n",
    "train_summary.set_summary_trigger(\"LearningRate\", SeveralIteration(1))\n",
    "train_summary.set_summary_trigger(\"Parameters\", SeveralIteration(1))\n",
    "val_summary = ValidationSummary(log_dir=log_dir,\n",
    "                                        app_name=app_name)\n",
    "optimizer.set_train_summary(train_summary)\n",
    "optimizer.set_val_summary(val_summary)\n",
    "print \"saving logs to %s\" % (log_dir + app_name)"
   ]
  },
  {
   "cell_type": "markdown",
   "metadata": {},
   "source": [
    "Train the network. Wait some time till it finished.. Voila! You've got a trained model"
   ]
  },
  {
   "cell_type": "code",
   "execution_count": 9,
   "metadata": {},
   "outputs": [
    {
     "name": "stdout",
     "output_type": "stream",
     "text": [
      "Optimization Done.\n",
      "CPU times: user 6.26 ms, sys: 3.55 ms, total: 9.81 ms\n",
      "Wall time: 43.8 s\n"
     ]
    }
   ],
   "source": [
    "%%time\n",
    "# Boot training process\n",
    "trained_model = optimizer.optimize()\n",
    "print \"Optimization Done.\""
   ]
  },
  {
   "cell_type": "markdown",
   "metadata": {},
   "source": [
    "## 5. Evaluate the trained model\n",
    "Will return a Top1 Accuracy about 84%."
   ]
  },
  {
   "cell_type": "code",
   "execution_count": 10,
   "metadata": {},
   "outputs": [
    {
     "name": "stdout",
     "output_type": "stream",
     "text": [
      "creating: createTop1Accuracy\n",
      "Top1 accuracy: 0.840795993805\n",
      "CPU times: user 7.85 ms, sys: 143 µs, total: 7.99 ms\n",
      "Wall time: 1.17 s\n"
     ]
    }
   ],
   "source": [
    "%%time\n",
    "evaluate_result=trained_model.evaluate(test_data, 2, [Top1Accuracy()])\n",
    "print \"Top1 accuracy: %s\" % evaluate_result[0].result\n",
    "#evaluate_result=trained_model.evaluate(train_data, 2, [Top1Accuracy()])\n",
    "#print \"Top1 accuracy: %s\" % evaluate_result[0].result"
   ]
  },
  {
   "cell_type": "markdown",
   "metadata": {},
   "source": [
    "## 6. Draw the convergence curve"
   ]
  },
  {
   "cell_type": "code",
   "execution_count": 11,
   "metadata": {},
   "outputs": [
    {
     "data": {
      "image/png": "[encoded data removed]",
      "text/plain": [
       "<matplotlib.figure.Figure at 0x7fc45ef15510>"
      ]
     },
     "metadata": {},
     "output_type": "display_data"
    }
   ],
   "source": [
    "loss = np.array(train_summary.read_scalar(\"Loss\"))\n",
    "top1 = np.array(val_summary.read_scalar(\"Top1Accuracy\"))\n",
    "\n",
    "plt.figure(figsize = (12,12))\n",
    "plt.subplot(2,1,1)\n",
    "plt.plot(loss[:,0],loss[:,1],label='loss')\n",
    "plt.xlim(0,loss.shape[0]+10)\n",
    "plt.grid(True)\n",
    "plt.title(\"loss\")\n",
    "plt.subplot(2,1,2)\n",
    "plt.plot(top1[:,0],top1[:,1],label='top1')\n",
    "plt.xlim(0,loss.shape[0]+10)\n",
    "plt.title(\"top1 accuracy\")\n",
    "plt.grid(True)"
   ]
  },
  {
   "cell_type": "markdown",
   "metadata": {},
   "source": [
    "## 7. Open tensorboard to watch the training metrics\n",
    "tensorboard --logdir /tmp/bigdl_summaries"
   ]
  },
  {
   "cell_type": "code",
   "execution_count": null,
   "metadata": {
    "collapsed": true
   },
   "outputs": [],
   "source": []
  },
  {
   "cell_type": "code",
   "execution_count": null,
   "metadata": {
    "collapsed": true
   },
   "outputs": [],
   "source": []
  }
 ],
 "metadata": {
  "kernelspec": {
   "display_name": "Python 2",
   "language": "python",
   "name": "python2"
  },
  "language_info": {
   "codemirror_mode": {
    "name": "ipython",
    "version": 2
   },
   "file_extension": ".py",
   "mimetype": "text/x-python",
   "name": "python",
   "nbconvert_exporter": "python",
   "pygments_lexer": "ipython2",
   "version": "2.7.14"
  }
 },
 "nbformat": 4,
 "nbformat_minor": 2
}
